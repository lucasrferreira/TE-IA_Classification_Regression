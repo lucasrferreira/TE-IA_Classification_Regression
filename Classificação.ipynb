{
 "cells": [
  {
   "cell_type": "markdown",
   "metadata": {},
   "source": [
    "## Tópicos Especiais em Inteligência Artificial \n",
    "### Trabalho I - Classificação\n",
    "#### Alunos: Lucas Ribeiro Ferreira e Letícia Garcez\n",
    "##### Descrição dos dados:\n",
    "Cada dado é um exemplo de uma mão de poker com cinco cartas tiradas de um deck normal com 52. Cada carta é descrita com dois atributos (Naipe e Rank), com um total de 10 atributos preditivos. Esse é o atributo Classe que descreve a \"mão de poker\". A ordem das cartas é importante, esse é o porquê existem 480 possibilidades de mãos Royal Flush em comparação com 4.\n",
    "\n",
    "<br>1) S1 \"Suit of card #1\"\n",
    "<br>    Ordinal (1-4) representing {Hearts, Spades, Diamonds, Clubs}\n",
    "<br>\n",
    "<br>2) C1 \"Rank of card #1\"\n",
    "<br>    Numerical (1-13) representing (Ace, 2, 3, ... , Queen, King)\n",
    "<br>\n",
    "<br>3) S2 \"Suit of card #2\"\n",
    "<br>    Ordinal (1-4) representing {Hearts, Spades, Diamonds, Clubs}\n",
    "<br>\n",
    "<br>4) C2 \"Rank of card #2\"\n",
    "<br>    Numerical (1-13) representing (Ace, 2, 3, ... , Queen, King)\n",
    "<br>\n",
    "<br>5) S3 \"Suit of card #3\"\n",
    "<br>    Ordinal (1-4) representing {Hearts, Spades, Diamonds, Clubs}\n",
    "<br>\n",
    "<br>6) C3 \"Rank of card #3\"\n",
    "<br>    Numerical (1-13) representing (Ace, 2, 3, ... , Queen, King)\n",
    "<br>\n",
    "<br>7) S4 \"Suit of card #4\"\n",
    "<br>    Ordinal (1-4) representing {Hearts, Spades, Diamonds, Clubs}\n",
    "<br>\n",
    "<br>8) C4 \"Rank of card #4\"\n",
    "<br>    Numerical (1-13) representing (Ace, 2, 3, ... , Queen, King)\n",
    "<br>\n",
    "<br>9) S5 \"Suit of card #5\"\n",
    "<br>    Ordinal (1-4) representing {Hearts, Spades, Diamonds, Clubs}\n",
    "<br>\n",
    "<br>10) C5 \"Rank of card 5\"\n",
    "<br>    Numerical (1-13) representing (Ace, 2, 3, ... , Queen, King)\n",
    "<br>\n",
    "<br>11) CLASS \"Poker Hand\"\n",
    "<br>    Ordinal (0-9)\n",
    "<br>\n",
    "<br>    0: Nothing in hand; not a recognized poker hand \n",
    "<br>    1: One pair; one pair of equal ranks within five cards\n",
    "<br>    2: Two pairs; two pairs of equal ranks within five cards\n",
    "<br>    3: Three of a kind; three equal ranks within five cards\n",
    "<br>    4: Straight; five cards, sequentially ranked with no gaps\n",
    "<br>    5: Flush; five cards with the same suit\n",
    "<br>    6: Full house; pair + different rank three of a kind\n",
    "<br>    7: Four of a kind; four equal ranks within five cards\n",
    "<br>    8: Straight flush; straight + flush\n",
    "<br>    9: Royal flush; {Ace, King, Queen, Jack, Ten} + flush\n",
    "\n",
    "#### Class Distribution:\n",
    "\n",
    "The first percentage in parenthesis is the representation\n",
    "within the training set. The second is the probability in the full domain.\n",
    "\n",
    "      Training set:\n",
    "\n",
    "      0. Nothing in hand, 12493 instances (49.95202% / 50.117739%)\n",
    "      1. One pair, 10599 instances, (42.37905% / 42.256903%)\n",
    "      2. Two pairs, 1206 instances, (4.82207% / 4.753902%)\n",
    "      3. Three of a kind, 513 instances, (2.05118% / 2.112845%)\n",
    "      4. Straight, 93 instances, (0.37185% / 0.392465%)\n",
    "      5. Flush, 54 instances, (0.21591% / 0.19654%)\n",
    "      6. Full house, 36 instances, (0.14394% / 0.144058%)\n",
    "      7. Four of a kind, 6 instances, (0.02399% / 0.02401%)\n",
    "      8. Straight flush, 5 instances, (0.01999% / 0.001385%)\n",
    "      9. Royal flush, 5 instances, (0.01999% / 0.000154%)\n",
    "\n",
    "    The Straight flush and Royal flush hands are not as representative of\n",
    "    the true domain because they have been over-sampled. The Straight flush\n",
    "    is 14.43 times more likely to occur in the training set, while the\n",
    "    Royal flush is 129.82 times more likely.\n",
    "\n",
    "    Total of 25010 instances in a domain of 311,875,200.\n",
    "\n",
    "    Testing set:\n",
    "\n",
    "    The value inside parenthesis indicates the representation within the test\n",
    "    set as compared to the entire domain. 1.0 would be perfect representation,\n",
    "    while <1.0 are under-represented and >1.0 are over-represented.\n",
    "\n",
    "    0. Nothing in hand, 501209 instances,(1.000063)\n",
    "    1. One pair, 422498 instances,(0.999832)\n",
    "    2. Two pairs, 47622 instances, (1.001746)\n",
    "    3. Three of a kind, 21121 instances, (0.999647)\n",
    "    4. Straight, 3885 instances, (0.989897)\n",
    "    5. Flush, 1996 instances, (1.015569)\n",
    "    6. Full house, 1424 instances, (0.988491)\n",
    "    7. Four of a kind, 230 instances, (0.957934)\n",
    "    8. Straight flush, 12 instances, (0.866426)\n",
    "    9. Royal flush, 3 instances, (1.948052)\n",
    "<br>"
   ]
  },
  {
   "cell_type": "markdown",
   "metadata": {
    "collapsed": true
   },
   "source": [
    "### Imports"
   ]
  },
  {
   "cell_type": "code",
   "execution_count": 1,
   "metadata": {
    "collapsed": false
   },
   "outputs": [],
   "source": [
    "import pandas as pd\n",
    "import numpy as np\n",
    "from sklearn import tree\n",
    "from sklearn.neural_network import MLPClassifier\n",
    "from sklearn import metrics \n",
    "from sklearn import svm\n",
    "import itertools\n",
    "import matplotlib.pyplot as plt\n",
    "from sklearn.preprocessing import label_binarize\n",
    "# from IPython.display import Image\n",
    "# import pydotplus "
   ]
  },
  {
   "cell_type": "markdown",
   "metadata": {},
   "source": [
    "### Funções de apoio\n",
    "\n",
    "1. plot_confusion_matrix: \n",
    "Função usada para fazer o plot da matriz de confução\n",
    "\n",
    "2. trues_by_class:\n",
    "Função utilizada para separar os gabaritos por classe. Inserindo no index o valor 1 se X é o valor da classe e 0 se não é o valor da classe.\n",
    "<br>Cria tantos vetores colunas quanto classes. \n",
    "<br>Ex:\n",
    "<br>Vetor Coluna: [1 2 4 3]\n",
    "<br>Saida: [1 0 0 0] [0 1 0 0] [0 0 0 1] [0 0 1 0]"
   ]
  },
  {
   "cell_type": "code",
   "execution_count": 2,
   "metadata": {
    "collapsed": false
   },
   "outputs": [],
   "source": [
    "def plot_confusion_matrix(cm, classes,\n",
    "                          normalize=False,\n",
    "                          title='Confusion matrix',\n",
    "                          cmap=plt.cm.Blues):\n",
    "    \"\"\"\n",
    "    This function prints and plots the confusion matrix.\n",
    "    Normalization can be applied by setting `normalize=True`.\n",
    "    \"\"\"\n",
    "    cm = cm.astype('float') / cm.sum(axis=1)[:, np.newaxis]\n",
    "    plt.imshow(cm, interpolation='nearest', cmap=cmap)\n",
    "    plt.title(title)\n",
    "    plt.colorbar()\n",
    "    tick_marks = np.arange(len(classes))\n",
    "    plt.xticks(tick_marks, classes, rotation=45)\n",
    "    plt.yticks(tick_marks, classes)\n",
    "\n",
    "    if normalize:\n",
    "        cm = cm.astype('float') / cm.sum(axis=1)[:, np.newaxis]\n",
    "        print(\"Normalized confusion matrix\")\n",
    "    else:\n",
    "        print('Confusion matrix, without normalization')\n",
    "\n",
    "    print(cm)\n",
    "\n",
    "    thresh = cm.max() / 2.\n",
    "    for i, j in itertools.product(range(cm.shape[0]), range(cm.shape[1])):\n",
    "        plt.text(j, i, float(\"{0:.2f}\".format(cm[i, j])),\n",
    "                 horizontalalignment=\"center\",\n",
    "                 color=\"black\" if cm[i, j] > thresh else \"black\")\n",
    "\n",
    "    plt.tight_layout()\n",
    "    plt.ylabel('True label')\n",
    "    plt.xlabel('Predicted label')\n",
    "\n",
    "def trues_by_class(array):\n",
    "    index_not_class = [np.where(array != 0),\n",
    "                     np.where(array != 1),\n",
    "                     np.where(array != 2),\n",
    "                     np.where(array != 3),\n",
    "                     np.where(array != 4),\n",
    "                     np.where(array != 5),\n",
    "                     np.where(array != 6),\n",
    "                     np.where(array != 7),\n",
    "                     np.where(array != 8),\n",
    "                     np.where(array != 9)\n",
    "                    ]\n",
    "    index_class = [np.where(array == 0),\n",
    "                     np.where(array == 1),\n",
    "                     np.where(array == 2),\n",
    "                     np.where(array == 3),\n",
    "                     np.where(array == 4),\n",
    "                     np.where(array == 5),\n",
    "                     np.where(array == 6),\n",
    "                     np.where(array == 7),\n",
    "                     np.where(array == 8),\n",
    "                     np.where(array == 9)\n",
    "                    ]\n",
    "    aux_array = np.copy(array)\n",
    "    aux_array[index_not_class[0]] = 2\n",
    "    aux_array[index_class[0]] = 1\n",
    "    aux_array[index_not_class[0]] = 0\n",
    "    trues_by_class = [aux_array]\n",
    "    for i in range(9):\n",
    "        j = i+1\n",
    "        aux_array = np.copy(array)\n",
    "        aux_array[index_not_class[j]] = 0\n",
    "        aux_array[index_class[j]] = 1\n",
    "        trues_by_class = np.append(trues_by_class, [aux_array], axis = 0)\n",
    "    return trues_by_class\n",
    "       \n",
    "        "
   ]
  },
  {
   "cell_type": "markdown",
   "metadata": {
    "collapsed": true
   },
   "source": [
    "Nomes das classes em seus respectivos indexes:"
   ]
  },
  {
   "cell_type": "code",
   "execution_count": 3,
   "metadata": {
    "collapsed": true
   },
   "outputs": [],
   "source": [
    "class_names = [\"None\", \"One Pair\", \"Two Pairs\", \"Tree Of A Kind\", \"Straight\",\"Flush\", \"Full House\", \"Four Of a Kind\", \"Straight flush\", \"Royal flush\"  ]"
   ]
  },
  {
   "cell_type": "markdown",
   "metadata": {},
   "source": [
    "### Leitura dos datasets:"
   ]
  },
  {
   "cell_type": "markdown",
   "metadata": {},
   "source": [
    "#### Leitura dos dados de treino:"
   ]
  },
  {
   "cell_type": "code",
   "execution_count": 4,
   "metadata": {
    "collapsed": false
   },
   "outputs": [
    {
     "data": {
      "text/html": [
       "<div>\n",
       "<table border=\"1\" class=\"dataframe\">\n",
       "  <thead>\n",
       "    <tr style=\"text-align: right;\">\n",
       "      <th></th>\n",
       "      <th>0</th>\n",
       "      <th>1</th>\n",
       "      <th>2</th>\n",
       "      <th>3</th>\n",
       "      <th>4</th>\n",
       "      <th>5</th>\n",
       "      <th>6</th>\n",
       "      <th>7</th>\n",
       "      <th>8</th>\n",
       "      <th>9</th>\n",
       "      <th>10</th>\n",
       "    </tr>\n",
       "  </thead>\n",
       "  <tbody>\n",
       "    <tr>\n",
       "      <th>0</th>\n",
       "      <td>1</td>\n",
       "      <td>10</td>\n",
       "      <td>1</td>\n",
       "      <td>11</td>\n",
       "      <td>1</td>\n",
       "      <td>13</td>\n",
       "      <td>1</td>\n",
       "      <td>12</td>\n",
       "      <td>1</td>\n",
       "      <td>1</td>\n",
       "      <td>9</td>\n",
       "    </tr>\n",
       "    <tr>\n",
       "      <th>1</th>\n",
       "      <td>2</td>\n",
       "      <td>11</td>\n",
       "      <td>2</td>\n",
       "      <td>13</td>\n",
       "      <td>2</td>\n",
       "      <td>10</td>\n",
       "      <td>2</td>\n",
       "      <td>12</td>\n",
       "      <td>2</td>\n",
       "      <td>1</td>\n",
       "      <td>9</td>\n",
       "    </tr>\n",
       "    <tr>\n",
       "      <th>2</th>\n",
       "      <td>3</td>\n",
       "      <td>12</td>\n",
       "      <td>3</td>\n",
       "      <td>11</td>\n",
       "      <td>3</td>\n",
       "      <td>13</td>\n",
       "      <td>3</td>\n",
       "      <td>10</td>\n",
       "      <td>3</td>\n",
       "      <td>1</td>\n",
       "      <td>9</td>\n",
       "    </tr>\n",
       "    <tr>\n",
       "      <th>3</th>\n",
       "      <td>4</td>\n",
       "      <td>10</td>\n",
       "      <td>4</td>\n",
       "      <td>11</td>\n",
       "      <td>4</td>\n",
       "      <td>1</td>\n",
       "      <td>4</td>\n",
       "      <td>13</td>\n",
       "      <td>4</td>\n",
       "      <td>12</td>\n",
       "      <td>9</td>\n",
       "    </tr>\n",
       "    <tr>\n",
       "      <th>4</th>\n",
       "      <td>4</td>\n",
       "      <td>1</td>\n",
       "      <td>4</td>\n",
       "      <td>13</td>\n",
       "      <td>4</td>\n",
       "      <td>12</td>\n",
       "      <td>4</td>\n",
       "      <td>11</td>\n",
       "      <td>4</td>\n",
       "      <td>10</td>\n",
       "      <td>9</td>\n",
       "    </tr>\n",
       "  </tbody>\n",
       "</table>\n",
       "</div>"
      ],
      "text/plain": [
       "   0   1   2   3   4   5   6   7   8   9   10\n",
       "0   1  10   1  11   1  13   1  12   1   1   9\n",
       "1   2  11   2  13   2  10   2  12   2   1   9\n",
       "2   3  12   3  11   3  13   3  10   3   1   9\n",
       "3   4  10   4  11   4   1   4  13   4  12   9\n",
       "4   4   1   4  13   4  12   4  11   4  10   9"
      ]
     },
     "execution_count": 4,
     "metadata": {},
     "output_type": "execute_result"
    }
   ],
   "source": [
    "training_data = pd.read_csv('data/poker-hand-training-true.data', header= None)\n",
    "X = training_data.loc[:, 0:9]\n",
    "Y = training_data.loc[:, 10:10]\n",
    "training_data.head()"
   ]
  },
  {
   "cell_type": "markdown",
   "metadata": {},
   "source": [
    "##### Lentura dos dados de teste:"
   ]
  },
  {
   "cell_type": "code",
   "execution_count": 5,
   "metadata": {
    "collapsed": false
   },
   "outputs": [
    {
     "data": {
      "text/html": [
       "<div>\n",
       "<table border=\"1\" class=\"dataframe\">\n",
       "  <thead>\n",
       "    <tr style=\"text-align: right;\">\n",
       "      <th></th>\n",
       "      <th>0</th>\n",
       "      <th>1</th>\n",
       "      <th>2</th>\n",
       "      <th>3</th>\n",
       "      <th>4</th>\n",
       "      <th>5</th>\n",
       "      <th>6</th>\n",
       "      <th>7</th>\n",
       "      <th>8</th>\n",
       "      <th>9</th>\n",
       "      <th>10</th>\n",
       "    </tr>\n",
       "  </thead>\n",
       "  <tbody>\n",
       "    <tr>\n",
       "      <th>0</th>\n",
       "      <td>1</td>\n",
       "      <td>1</td>\n",
       "      <td>1</td>\n",
       "      <td>13</td>\n",
       "      <td>2</td>\n",
       "      <td>4</td>\n",
       "      <td>2</td>\n",
       "      <td>3</td>\n",
       "      <td>1</td>\n",
       "      <td>12</td>\n",
       "      <td>0</td>\n",
       "    </tr>\n",
       "    <tr>\n",
       "      <th>1</th>\n",
       "      <td>3</td>\n",
       "      <td>12</td>\n",
       "      <td>3</td>\n",
       "      <td>2</td>\n",
       "      <td>3</td>\n",
       "      <td>11</td>\n",
       "      <td>4</td>\n",
       "      <td>5</td>\n",
       "      <td>2</td>\n",
       "      <td>5</td>\n",
       "      <td>1</td>\n",
       "    </tr>\n",
       "    <tr>\n",
       "      <th>2</th>\n",
       "      <td>1</td>\n",
       "      <td>9</td>\n",
       "      <td>4</td>\n",
       "      <td>6</td>\n",
       "      <td>1</td>\n",
       "      <td>4</td>\n",
       "      <td>3</td>\n",
       "      <td>2</td>\n",
       "      <td>3</td>\n",
       "      <td>9</td>\n",
       "      <td>1</td>\n",
       "    </tr>\n",
       "    <tr>\n",
       "      <th>3</th>\n",
       "      <td>1</td>\n",
       "      <td>4</td>\n",
       "      <td>3</td>\n",
       "      <td>13</td>\n",
       "      <td>2</td>\n",
       "      <td>13</td>\n",
       "      <td>2</td>\n",
       "      <td>1</td>\n",
       "      <td>3</td>\n",
       "      <td>6</td>\n",
       "      <td>1</td>\n",
       "    </tr>\n",
       "    <tr>\n",
       "      <th>4</th>\n",
       "      <td>3</td>\n",
       "      <td>10</td>\n",
       "      <td>2</td>\n",
       "      <td>7</td>\n",
       "      <td>1</td>\n",
       "      <td>2</td>\n",
       "      <td>2</td>\n",
       "      <td>11</td>\n",
       "      <td>4</td>\n",
       "      <td>9</td>\n",
       "      <td>0</td>\n",
       "    </tr>\n",
       "  </tbody>\n",
       "</table>\n",
       "</div>"
      ],
      "text/plain": [
       "   0   1   2   3   4   5   6   7   8   9   10\n",
       "0   1   1   1  13   2   4   2   3   1  12   0\n",
       "1   3  12   3   2   3  11   4   5   2   5   1\n",
       "2   1   9   4   6   1   4   3   2   3   9   1\n",
       "3   1   4   3  13   2  13   2   1   3   6   1\n",
       "4   3  10   2   7   1   2   2  11   4   9   0"
      ]
     },
     "execution_count": 5,
     "metadata": {},
     "output_type": "execute_result"
    }
   ],
   "source": [
    "test_data = pd.read_csv('data/poker-hand-testing.data', header= None)\n",
    "test_X = test_data.loc[:, 0:9]\n",
    "true_Y = test_data.loc[:, [10]]\n",
    "test_data.head()"
   ]
  },
  {
   "cell_type": "markdown",
   "metadata": {},
   "source": [
    "#### Separarando gabarito por classe"
   ]
  },
  {
   "cell_type": "code",
   "execution_count": 6,
   "metadata": {
    "collapsed": false
   },
   "outputs": [
    {
     "data": {
      "text/plain": [
       "array([[1],\n",
       "       [0],\n",
       "       [0],\n",
       "       ..., \n",
       "       [0],\n",
       "       [0],\n",
       "       [0]], dtype=int64)"
      ]
     },
     "execution_count": 6,
     "metadata": {},
     "output_type": "execute_result"
    }
   ],
   "source": [
    "true_Y_by_class = trues_by_class(true_Y)\n",
    "true_Y_by_class[0]"
   ]
  },
  {
   "cell_type": "markdown",
   "metadata": {},
   "source": [
    "#### Preprocessando o dataset\n",
    "\n",
    "Devido a natureza categórica de alguns atributos, é necessário ser feita um preprocessamento dos dados para binarizar esses atributos.\n",
    "\n",
    "Faremos uso da função *label_binarize* do scikit-learn para ajudar nesse processo. \n",
    "\n",
    "As colunas categóricas são as que fazem referencia ao Naipe das cartas, que pode ser 1 (Hearts), 2 (Spades), 3 (Diamonds), 4 (Clubs), e se encontram nas colunas 0, 2, 4, 6, 8 do dataset. \n",
    "\n",
    "Durante a binarização os valores 1, 2, 3, 4 serão transformados da seguinte forma: <br>\n",
    "1 = 1 0 0 0 <br>\n",
    "2 = 0 1 0 0 <br>\n",
    "3 = 0 0 1 0 <br>\n",
    "4 = 0 0 0 1 <br>\n",
    "\n",
    "Ao final do processo de binarização, cada uma dessas colunas terá se tornado outras quatro segundo a regra explicada anteriormente.\n",
    "\n",
    "No output anterior temos um exemplo do dataset de teste original. No proximo teremos um exemplo do dataset de teste binarizado."
   ]
  },
  {
   "cell_type": "code",
   "execution_count": 7,
   "metadata": {
    "collapsed": false,
    "scrolled": false
   },
   "outputs": [
    {
     "data": {
      "text/plain": [
       "array([[ 1,  0,  0,  0,  1,  1,  0,  0,  0, 13,  0,  1,  0,  0,  4,  0,  1,\n",
       "         0,  0,  3,  1,  0,  0,  0, 12],\n",
       "       [ 0,  0,  1,  0, 12,  0,  0,  1,  0,  2,  0,  0,  1,  0, 11,  0,  0,\n",
       "         0,  1,  5,  0,  1,  0,  0,  5],\n",
       "       [ 1,  0,  0,  0,  9,  0,  0,  0,  1,  6,  1,  0,  0,  0,  4,  0,  0,\n",
       "         1,  0,  2,  0,  0,  1,  0,  9],\n",
       "       [ 1,  0,  0,  0,  4,  0,  0,  1,  0, 13,  0,  1,  0,  0, 13,  0,  1,\n",
       "         0,  0,  1,  0,  0,  1,  0,  6]], dtype=int64)"
      ]
     },
     "execution_count": 7,
     "metadata": {},
     "output_type": "execute_result"
    }
   ],
   "source": [
    "def binarize_categorical_columns(data):\n",
    "    for j in range(5):\n",
    "        colum_index = j * 2 + 3*j\n",
    "        binarized_colum = label_binarize(data[:, [colum_index]], classes=[1, 2, 3, 4], pos_label= 1, neg_label= 0)\n",
    "        data = np.delete(data, colum_index, 1)\n",
    "        for i in range(binarized_colum.shape[1]):\n",
    "            new_index_colum = colum_index+i \n",
    "            data = np.insert(data, new_index_colum, binarized_colum[:, i] , axis=1)\n",
    "    return data\n",
    "\n",
    "bin_X = binarize_categorical_columns(np.array(X))\n",
    "bin_test_X = binarize_categorical_columns(np.array(test_X))\n",
    "\n",
    "bin_test_X[0:4, :]"
   ]
  },
  {
   "cell_type": "markdown",
   "metadata": {},
   "source": [
    "### Realizando predição\n",
    "\n",
    "#### Árvore de Decisão\n",
    "Decidimos usar o algoritmo de Árvore de Decisão pois testamos alguns outros e percebemos que a Árvore de Decisão se comporta um pouco melhor com esse problema. Isso pode ser explicado devido a natureza do problema ser sobre regras de um jogo. Um algoritmo que gera uma arvore de regras para decidir a classe do dado nos pareceu que se comportaria melhor.\n",
    "\n",
    "Nos proximos passos, criamos uma 'instancia' do algorímo, foi feito o treinamento e a predição em seguida. Após isso, separamos a predição em predições por classe de maneira analoga à separação por classes do gabarito."
   ]
  },
  {
   "cell_type": "code",
   "execution_count": 8,
   "metadata": {
    "collapsed": true
   },
   "outputs": [],
   "source": [
    "clf = tree.DecisionTreeClassifier()\n",
    "clf = clf.fit(bin_X, Y)\n",
    "predict_Y = clf.predict(bin_test_X)\n",
    "predict_Y_by_class = trues_by_class(predict_Y)"
   ]
  },
  {
   "cell_type": "code",
   "execution_count": 9,
   "metadata": {
    "collapsed": false
   },
   "outputs": [],
   "source": [
    "  \n",
    "# dot_data = tree.export_graphviz(clf, out_file=None, \n",
    "# #                          feature_names=[\"n1_1\",\"n1_2\",\"n1_3\",\"n1_4\",\"r1\",\"n2_1\",\"n2_2\",\"n2_3\",\"n2_4\",\"r2\"],  \n",
    "#                          class_names=class_names,  \n",
    "#                          filled=True, rounded=True,  \n",
    "#                          special_characters=True)  \n",
    "# graph = pydotplus.graph_from_dot_data(dot_data)  \n",
    "# Image(graph.create_png())  "
   ]
  },
  {
   "cell_type": "markdown",
   "metadata": {},
   "source": [
    "### Métricas de Validação\n",
    "\n",
    "Abaixo veremos uma análise em cima da predição e do gabarito para poder dizer se a predição foi bem sucessida ou não.\n",
    "\n",
    "Usaremos as seguintes métricas: matriz de confusão, acurácia, precisão, recall e f1\n",
    "\n",
    "Primeiro temos uma análise classe por classe e posteriormente veremos uma análise global."
   ]
  },
  {
   "cell_type": "markdown",
   "metadata": {},
   "source": [
    "### Métricas de Validação - Classe 0 (None)\n",
    "\n",
    "#### A classe:\n",
    "A classe 0 é referente a mão que não possui nenhuma combinação de cartas que caracteriza uma mão de poker. Em resumo, é a classe \"não-classe\", pois ela se dá quando nenhum das outras foi possível."
   ]
  },
  {
   "cell_type": "markdown",
   "metadata": {},
   "source": [
    "#### Matriz de Confusão - Classe 0 (None)\n",
    "\n",
    "Abaixo temos os resultados da matriz de confusão."
   ]
  },
  {
   "cell_type": "code",
   "execution_count": 10,
   "metadata": {
    "collapsed": true
   },
   "outputs": [],
   "source": [
    "class_now = 0\n",
    "trues_now = true_Y_by_class[class_now]\n",
    "predics_now = predict_Y_by_class[class_now]"
   ]
  },
  {
   "cell_type": "code",
   "execution_count": 11,
   "metadata": {
    "collapsed": false
   },
   "outputs": [
    {
     "name": "stdout",
     "output_type": "stream",
     "text": [
      "Confusion matrix, without normalization\n",
      "[[ 0.6   0.4 ]\n",
      " [ 0.43  0.57]]\n"
     ]
    },
    {
     "data": {
      "image/png": "[encoded data removed]",
      "text/plain": [
       "<matplotlib.figure.Figure at 0x1e66c77ee10>"
      ]
     },
     "metadata": {},
     "output_type": "display_data"
    }
   ],
   "source": [
    "# cnf_matrix = confusion_matrix(true_Y, predict_Y)\n",
    "cnf_matrix = metrics.confusion_matrix(trues_now, predics_now)\n",
    "np.set_printoptions(precision=2)\n",
    "# Plot non-normalized confusion matrix\n",
    "plt.figure()\n",
    "plot_confusion_matrix(cnf_matrix, classes=[\"Not None\", \"None\"], normalize=False,\n",
    "                      title='Normalized confusion matrix')\n",
    "plt.show()"
   ]
  },
  {
   "cell_type": "markdown",
   "metadata": {},
   "source": [
    "Através dessa matriz de confusão podemos ver que modelo foi capaz de acertar um pouco mais da metade em ambas possibilidades. Quando o gabarito era *None* (classe) ele preveu corretamente em 57% das vezes e quando era *Not None* (Não-Classe) ele acertou que a classe *não* era *None* em 60% das vezes. Porém, em um pouco mais de 40% das vezes ele preveu sendo *None* quando era alguma outra classe e o mesmo caso para quando preveu ser qualquer outra e era *None*"
   ]
  },
  {
   "cell_type": "markdown",
   "metadata": {},
   "source": [
    "#### Acurácia - Classe 0 (None)\n"
   ]
  },
  {
   "cell_type": "code",
   "execution_count": 12,
   "metadata": {
    "collapsed": false,
    "scrolled": true
   },
   "outputs": [
    {
     "data": {
      "text/plain": [
       "0.58431200000000005"
      ]
     },
     "execution_count": 12,
     "metadata": {},
     "output_type": "execute_result"
    }
   ],
   "source": [
    "metrics.accuracy_score(trues_now, predics_now)"
   ]
  },
  {
   "cell_type": "markdown",
   "metadata": {},
   "source": [
    "Com um taxa de acurácia de quase 60%, podemos ver que nosso modelo está com uma quantidade alta de falsos positivos e falsos negativos, mas ainda temos a maior porcentagem de verdadeiro positivos e negativos. "
   ]
  },
  {
   "cell_type": "markdown",
   "metadata": {},
   "source": [
    "#### Precisão - Classe 0 (None)\n"
   ]
  },
  {
   "cell_type": "code",
   "execution_count": 13,
   "metadata": {
    "collapsed": false,
    "scrolled": true
   },
   "outputs": [
    {
     "data": {
      "text/plain": [
       "0.58886757514480303"
      ]
     },
     "execution_count": 13,
     "metadata": {},
     "output_type": "execute_result"
    }
   ],
   "source": [
    "metrics.precision_score(trues_now, predics_now)"
   ]
  },
  {
   "cell_type": "markdown",
   "metadata": {},
   "source": [
    "Com uma precisão de somente quase 60% podemos afirmar que muitas das vezes que o nosso modelo afirmou que um dado era da classe None, era de outra classe. "
   ]
  },
  {
   "cell_type": "markdown",
   "metadata": {},
   "source": [
    "#### Recall - Classe 0 (None)\n"
   ]
  },
  {
   "cell_type": "code",
   "execution_count": 14,
   "metadata": {
    "collapsed": false,
    "scrolled": true
   },
   "outputs": [
    {
     "data": {
      "text/plain": [
       "0.56532504404350281"
      ]
     },
     "execution_count": 14,
     "metadata": {},
     "output_type": "execute_result"
    }
   ],
   "source": [
    "metrics.recall_score(trues_now, predics_now)"
   ]
  },
  {
   "cell_type": "markdown",
   "metadata": {},
   "source": [
    "Com um recall de quase 60% podemos afirmar que acertamos a maior parte dos dados da Classe None. Mas ainda ficaram muitos que o nosso modelo rotulou como sendo de alguma outra classe que não None. "
   ]
  },
  {
   "cell_type": "markdown",
   "metadata": {},
   "source": [
    "#### f1 Score - Classe 0 (None)\n"
   ]
  },
  {
   "cell_type": "code",
   "execution_count": 15,
   "metadata": {
    "collapsed": false,
    "scrolled": true
   },
   "outputs": [
    {
     "data": {
      "text/plain": [
       "0.57685620635599266"
      ]
     },
     "execution_count": 15,
     "metadata": {},
     "output_type": "execute_result"
    }
   ],
   "source": [
    "metrics.f1_score(trues_now, predics_now)"
   ]
  },
  {
   "cell_type": "markdown",
   "metadata": {},
   "source": [
    "Vimos anteriormente que o Recall e a Precisão não estão tão discrepantes, o que nos faz poder afirmar que o nosso f1 score para a classe None está próximo da media padrão entre o Recall e a Precisão. "
   ]
  },
  {
   "cell_type": "markdown",
   "metadata": {},
   "source": [
    "### Métricas de Validação - Classe 1 (One Pair)\n",
    "\n",
    "#### A classe:\n",
    "A classe 1 é referente a mão que possui nenhuma combinação de cartas que caracteriza a mão de poker chamada \"Um par\". Como o nome ja diz, essa classe se dá quando o jogador possui duas cartas de mesmo **rank** (um par) entre as cinco de sua mão."
   ]
  },
  {
   "cell_type": "markdown",
   "metadata": {},
   "source": [
    "#### Matriz de Confusão - Classe 1 (One Pair)\n",
    "\n",
    "Abaixo temos os resultados da matriz de confusão."
   ]
  },
  {
   "cell_type": "code",
   "execution_count": 16,
   "metadata": {
    "collapsed": true
   },
   "outputs": [],
   "source": [
    "class_now = 1\n",
    "trues_now = true_Y_by_class[class_now]\n",
    "predics_now = predict_Y_by_class[class_now]"
   ]
  },
  {
   "cell_type": "code",
   "execution_count": 17,
   "metadata": {
    "collapsed": false
   },
   "outputs": [
    {
     "name": "stdout",
     "output_type": "stream",
     "text": [
      "Confusion matrix, without normalization\n",
      "[[ 0.61  0.39]\n",
      " [ 0.53  0.47]]\n"
     ]
    },
    {
     "data": {
      "image/png": "[encoded data removed]",
      "text/plain": [
       "<matplotlib.figure.Figure at 0x1e6006290f0>"
      ]
     },
     "metadata": {},
     "output_type": "display_data"
    }
   ],
   "source": [
    "# cnf_matrix = confusion_matrix(true_Y, predict_Y)\n",
    "cnf_matrix = metrics.confusion_matrix(trues_now, predics_now)\n",
    "np.set_printoptions(precision=2)\n",
    "# Plot non-normalized confusion matrix\n",
    "plt.figure()\n",
    "plot_confusion_matrix(cnf_matrix, classes=[\"Not \"+class_names[class_now], class_names[class_now]], normalize=False,\n",
    "                      title='Normalized confusion matrix')\n",
    "plt.show()"
   ]
  },
  {
   "cell_type": "markdown",
   "metadata": {},
   "source": [
    "Análise aqui"
   ]
  },
  {
   "cell_type": "markdown",
   "metadata": {},
   "source": [
    "#### Acurácia\n"
   ]
  },
  {
   "cell_type": "code",
   "execution_count": 18,
   "metadata": {
    "collapsed": false,
    "scrolled": true
   },
   "outputs": [
    {
     "data": {
      "text/plain": [
       "0.55096800000000001"
      ]
     },
     "execution_count": 18,
     "metadata": {},
     "output_type": "execute_result"
    }
   ],
   "source": [
    "metrics.accuracy_score(trues_now, predics_now)"
   ]
  },
  {
   "cell_type": "markdown",
   "metadata": {},
   "source": [
    "Com um taxa de acurácia de próxima, mas maior que 50%, podemos dizer que nosso modelo está com uma quantidade alta de falsos positivos e falsos negativos, mas ainda temos a maior porcentagem de verdadeiro positivos e negativos."
   ]
  },
  {
   "cell_type": "markdown",
   "metadata": {},
   "source": [
    "#### Precisão\n"
   ]
  },
  {
   "cell_type": "code",
   "execution_count": 19,
   "metadata": {
    "collapsed": false,
    "scrolled": true
   },
   "outputs": [
    {
     "data": {
      "text/plain": [
       "0.46894210735772646"
      ]
     },
     "execution_count": 19,
     "metadata": {},
     "output_type": "execute_result"
    }
   ],
   "source": [
    "metrics.precision_score(trues_now, predics_now)"
   ]
  },
  {
   "cell_type": "markdown",
   "metadata": {},
   "source": [
    "Com uma precisão abaixo de 50% podemos afirmar que muitas das vezes que o nosso modelo afirmou que um dado era da classe, era, na verdade, de outra classe. "
   ]
  },
  {
   "cell_type": "markdown",
   "metadata": {},
   "source": [
    "#### Recall\n"
   ]
  },
  {
   "cell_type": "code",
   "execution_count": 20,
   "metadata": {
    "collapsed": false,
    "scrolled": true
   },
   "outputs": [
    {
     "data": {
      "text/plain": [
       "0.47412768817840556"
      ]
     },
     "execution_count": 20,
     "metadata": {},
     "output_type": "execute_result"
    }
   ],
   "source": [
    "metrics.recall_score(trues_now, predics_now)"
   ]
  },
  {
   "cell_type": "markdown",
   "metadata": {},
   "source": [
    "Com um recall abaixo de 50% podemos afirmar que erramos a maior parte dos dados da classe."
   ]
  },
  {
   "cell_type": "markdown",
   "metadata": {},
   "source": [
    "#### f1 Score\n"
   ]
  },
  {
   "cell_type": "code",
   "execution_count": 21,
   "metadata": {
    "collapsed": false,
    "scrolled": true
   },
   "outputs": [
    {
     "data": {
      "text/plain": [
       "0.47152064100330954"
      ]
     },
     "execution_count": 21,
     "metadata": {},
     "output_type": "execute_result"
    }
   ],
   "source": [
    "metrics.f1_score(trues_now, predics_now)"
   ]
  },
  {
   "cell_type": "markdown",
   "metadata": {},
   "source": [
    "Vimos anteriormente que o Recall e a Precisão não estão muito discrepantes, o que nos faz poder afirmar que o nosso f1 score para a classe está próximo da media padrão entre o Recall e a Precisão.  "
   ]
  },
  {
   "cell_type": "markdown",
   "metadata": {},
   "source": [
    "### Métricas de Validação - Classe 2 (Two Pairs)\n",
    "\n",
    "#### A classe:\n",
    "A classe 2 é referente a mão que possui nenhuma combinação de cartas que caracteriza a mão de poker chamada \"Dois pares\". Como o nome ja diz, essa classe se dá quando o jogador possui duas duas cartas de mesmo **rank** (dois pares) entre as cinco de sua mão."
   ]
  },
  {
   "cell_type": "markdown",
   "metadata": {},
   "source": [
    "#### Matriz de Confusão\n",
    "\n",
    "Abaixo temos os resultados da matriz de confusão."
   ]
  },
  {
   "cell_type": "code",
   "execution_count": 22,
   "metadata": {
    "collapsed": true
   },
   "outputs": [],
   "source": [
    "class_now = 2\n",
    "trues_now = true_Y_by_class[class_now]\n",
    "predics_now = predict_Y_by_class[class_now]"
   ]
  },
  {
   "cell_type": "code",
   "execution_count": 23,
   "metadata": {
    "collapsed": false
   },
   "outputs": [
    {
     "name": "stdout",
     "output_type": "stream",
     "text": [
      "Confusion matrix, without normalization\n",
      "[[ 0.95  0.05]\n",
      " [ 0.87  0.13]]\n"
     ]
    },
    {
     "data": {
      "image/png": "[encoded data removed]",
      "text/plain": [
       "<matplotlib.figure.Figure at 0x1e600e7f518>"
      ]
     },
     "metadata": {},
     "output_type": "display_data"
    }
   ],
   "source": [
    "# cnf_matrix = confusion_matrix(true_Y, predict_Y)\n",
    "cnf_matrix = metrics.confusion_matrix(trues_now, predics_now)\n",
    "np.set_printoptions(precision=2)\n",
    "# Plot non-normalized confusion matrix\n",
    "plt.figure()\n",
    "plot_confusion_matrix(cnf_matrix, classes=[\"Not \"+class_names[class_now], class_names[class_now]], normalize=False,\n",
    "                      title='Normalized confusion matrix')\n",
    "plt.show()"
   ]
  },
  {
   "cell_type": "markdown",
   "metadata": {},
   "source": [
    "Com a parte mais escura do grafico ficando a esquerda, podemos ver que o modelo na maior parte das vezes preveu que a classe não era a classe em questão. Conseguiu acertar bastante quando não era realmente, mas errou na maior parte das vezes quando era da classe. \n",
    "\n",
    "Pode se concluir que o modelo chutou muito pouco que um exemplo do dataset era dessa classe."
   ]
  },
  {
   "cell_type": "markdown",
   "metadata": {},
   "source": [
    "#### Acurácia\n"
   ]
  },
  {
   "cell_type": "code",
   "execution_count": 24,
   "metadata": {
    "collapsed": false,
    "scrolled": true
   },
   "outputs": [
    {
     "data": {
      "text/plain": [
       "0.90635299999999996"
      ]
     },
     "execution_count": 24,
     "metadata": {},
     "output_type": "execute_result"
    }
   ],
   "source": [
    "metrics.accuracy_score(trues_now, predics_now)"
   ]
  },
  {
   "cell_type": "markdown",
   "metadata": {},
   "source": [
    "Com um taxa de acurácia de um pouco mais de 90%, temos a impressão de que o modelo conseguiu acertar muito nessa classe. Mas como pudemos observar na matriz de confusão e vamos observar nas próximas métricas, isso muito se deu por ter muito exemplos que não fazem parte dessa classe e o modelo ter tipo uma porcentagem enorme de chutes em não ser da classe."
   ]
  },
  {
   "cell_type": "markdown",
   "metadata": {},
   "source": [
    "#### Precisão\n"
   ]
  },
  {
   "cell_type": "code",
   "execution_count": 25,
   "metadata": {
    "collapsed": false,
    "scrolled": true
   },
   "outputs": [
    {
     "data": {
      "text/plain": [
       "0.10408602150537634"
      ]
     },
     "execution_count": 25,
     "metadata": {},
     "output_type": "execute_result"
    }
   ],
   "source": [
    "metrics.precision_score(trues_now, predics_now)"
   ]
  },
  {
   "cell_type": "markdown",
   "metadata": {},
   "source": [
    "Com uma precisão abaixo de 10% podemos afirmar que o modelo errou muito ao tentar prever a classe. Houve uma quantidade exorbitante de falso positivo em comparação aos verdadeiros positivos."
   ]
  },
  {
   "cell_type": "markdown",
   "metadata": {},
   "source": [
    "#### Recall\n"
   ]
  },
  {
   "cell_type": "code",
   "execution_count": 26,
   "metadata": {
    "collapsed": false,
    "scrolled": true
   },
   "outputs": [
    {
     "data": {
      "text/plain": [
       "0.12704212338834991"
      ]
     },
     "execution_count": 26,
     "metadata": {},
     "output_type": "execute_result"
    }
   ],
   "source": [
    "metrics.recall_score(trues_now, predics_now)"
   ]
  },
  {
   "cell_type": "markdown",
   "metadata": {},
   "source": [
    "Com um recall abaixo de 15% podemos afirmar que houve um numero exorbitante de falso negativo."
   ]
  },
  {
   "cell_type": "markdown",
   "metadata": {},
   "source": [
    "#### f1 Score\n"
   ]
  },
  {
   "cell_type": "code",
   "execution_count": 27,
   "metadata": {
    "collapsed": false,
    "scrolled": true
   },
   "outputs": [
    {
     "data": {
      "text/plain": [
       "0.11442404985484222"
      ]
     },
     "execution_count": 27,
     "metadata": {},
     "output_type": "execute_result"
    }
   ],
   "source": [
    "metrics.f1_score(trues_now, predics_now)"
   ]
  },
  {
   "cell_type": "markdown",
   "metadata": {},
   "source": [
    "Corroborando com as métricas anteriores, o f1 está proxímo de 10%.  "
   ]
  },
  {
   "cell_type": "markdown",
   "metadata": {},
   "source": [
    "### Métricas de Validação - Classe 3 (Tree of a Kind)\n",
    "\n",
    "#### A classe:\n",
    "A classe 3 é referente a mão que possui uma combinação de cartas que caracteriza a mão de poker chamada \"Trinca\". Essa classe se dá quando o jogador possui três cartas de mesmo **rank** entre as cinco de sua mão."
   ]
  },
  {
   "cell_type": "markdown",
   "metadata": {},
   "source": [
    "#### Matriz de Confusão\n",
    "\n",
    "Abaixo temos os resultados da matriz de confusão."
   ]
  },
  {
   "cell_type": "code",
   "execution_count": 28,
   "metadata": {
    "collapsed": true
   },
   "outputs": [],
   "source": [
    "class_now = 3\n",
    "trues_now = true_Y_by_class[class_now]\n",
    "predics_now = predict_Y_by_class[class_now]"
   ]
  },
  {
   "cell_type": "code",
   "execution_count": 29,
   "metadata": {
    "collapsed": false
   },
   "outputs": [
    {
     "name": "stdout",
     "output_type": "stream",
     "text": [
      "Confusion matrix, without normalization\n",
      "[[ 0.98  0.02]\n",
      " [ 0.89  0.11]]\n"
     ]
    },
    {
     "data": {
      "image/png": "[encoded data removed]",
      "text/plain": [
       "<matplotlib.figure.Figure at 0x1e600f76390>"
      ]
     },
     "metadata": {},
     "output_type": "display_data"
    }
   ],
   "source": [
    "# cnf_matrix = confusion_matrix(true_Y, predict_Y)\n",
    "cnf_matrix = metrics.confusion_matrix(trues_now, predics_now)\n",
    "np.set_printoptions(precision=2)\n",
    "# Plot non-normalized confusion matrix\n",
    "plt.figure()\n",
    "plot_confusion_matrix(cnf_matrix, classes=[\"Not \"+class_names[class_now], class_names[class_now]], normalize=False,\n",
    "                      title='Normalized confusion matrix')\n",
    "plt.show()"
   ]
  },
  {
   "cell_type": "markdown",
   "metadata": {},
   "source": [
    "Com a parte mais escura do grafico ficando a esquerda, podemos ver que o modelo na maior parte das vezes preveu que a classe não era a classe em questão. Conseguiu acertar bastante quando não era realmente, mas errou na maior parte das vezes quando era da classe. \n",
    "\n",
    "Pode se concluir que o modelo chutou muito pouco que um exemplo do dataset era dessa classe."
   ]
  },
  {
   "cell_type": "markdown",
   "metadata": {},
   "source": [
    "#### Acurácia\n"
   ]
  },
  {
   "cell_type": "code",
   "execution_count": 30,
   "metadata": {
    "collapsed": false,
    "scrolled": true
   },
   "outputs": [
    {
     "data": {
      "text/plain": [
       "0.96071399999999996"
      ]
     },
     "execution_count": 30,
     "metadata": {},
     "output_type": "execute_result"
    }
   ],
   "source": [
    "metrics.accuracy_score(trues_now, predics_now)"
   ]
  },
  {
   "cell_type": "markdown",
   "metadata": {},
   "source": [
    "Com um taxa de acurácia acima de 90%, temos a impressão de que o modelo conseguiu acertar muito nessa classe. Mas como pudemos observar na matriz de confusão e vamos observar nas próximas métricas, isso muito se deu por ter muito exemplos que não fazem parte dessa classe no dataset e a predição ter tido uma porcentagem enorme de chutes em não ser da classe."
   ]
  },
  {
   "cell_type": "markdown",
   "metadata": {},
   "source": [
    "#### Precisão\n"
   ]
  },
  {
   "cell_type": "code",
   "execution_count": 31,
   "metadata": {
    "collapsed": false,
    "scrolled": true
   },
   "outputs": [
    {
     "data": {
      "text/plain": [
       "0.10457573250903392"
      ]
     },
     "execution_count": 31,
     "metadata": {},
     "output_type": "execute_result"
    }
   ],
   "source": [
    "metrics.precision_score(trues_now, predics_now)"
   ]
  },
  {
   "cell_type": "markdown",
   "metadata": {},
   "source": [
    "Com uma precisão próxima de 10% podemos afirmar que o modelo errou muito ao tentar prever a classe. Houve uma quantidade exorbitante de falso positivo em comparação aos verdadeiros positivos.."
   ]
  },
  {
   "cell_type": "markdown",
   "metadata": {},
   "source": [
    "#### Recall\n"
   ]
  },
  {
   "cell_type": "code",
   "execution_count": 32,
   "metadata": {
    "collapsed": false,
    "scrolled": true
   },
   "outputs": [
    {
     "data": {
      "text/plain": [
       "0.1137256758676199"
      ]
     },
     "execution_count": 32,
     "metadata": {},
     "output_type": "execute_result"
    }
   ],
   "source": [
    "metrics.recall_score(trues_now, predics_now)"
   ]
  },
  {
   "cell_type": "markdown",
   "metadata": {},
   "source": [
    "Com um recall abaixo de 15% podemos afirmar que houve um numero exorbitante de falso negativo."
   ]
  },
  {
   "cell_type": "markdown",
   "metadata": {},
   "source": [
    "#### f1 Score\n"
   ]
  },
  {
   "cell_type": "code",
   "execution_count": 33,
   "metadata": {
    "collapsed": false,
    "scrolled": true
   },
   "outputs": [
    {
     "data": {
      "text/plain": [
       "0.10895894760716715"
      ]
     },
     "execution_count": 33,
     "metadata": {},
     "output_type": "execute_result"
    }
   ],
   "source": [
    "metrics.f1_score(trues_now, predics_now)"
   ]
  },
  {
   "cell_type": "markdown",
   "metadata": {},
   "source": [
    "Corroborando com as métricas anteriores, o f1 está proxímo de 10%.  "
   ]
  },
  {
   "cell_type": "markdown",
   "metadata": {},
   "source": [
    "### Métricas de Validação - Classe 4 (Strainght)\n",
    "\n",
    "#### A classe:\n",
    "A classe 4 é referente a mão que possui uma combinação de cartas que caracteriza a mão de poker chamada \"Sequencia\". Essa classe se dá quando o jogador possui cinco cartas de **rank** em sequencia na sua mão."
   ]
  },
  {
   "cell_type": "markdown",
   "metadata": {},
   "source": [
    "#### Matriz de Confusão\n",
    "\n",
    "Abaixo temos os resultados da matriz de confusão."
   ]
  },
  {
   "cell_type": "code",
   "execution_count": 34,
   "metadata": {
    "collapsed": true
   },
   "outputs": [],
   "source": [
    "class_now = 4\n",
    "trues_now = true_Y_by_class[class_now]\n",
    "predics_now = predict_Y_by_class[class_now]"
   ]
  },
  {
   "cell_type": "code",
   "execution_count": 35,
   "metadata": {
    "collapsed": false
   },
   "outputs": [
    {
     "name": "stdout",
     "output_type": "stream",
     "text": [
      "Confusion matrix, without normalization\n",
      "[[ 0.99  0.01]\n",
      " [ 0.97  0.03]]\n"
     ]
    },
    {
     "data": {
      "image/png": "[encoded data removed]",
      "text/plain": [
       "<matplotlib.figure.Figure at 0x1e601076358>"
      ]
     },
     "metadata": {},
     "output_type": "display_data"
    }
   ],
   "source": [
    "# cnf_matrix = confusion_matrix(true_Y, predict_Y)\n",
    "cnf_matrix = metrics.confusion_matrix(trues_now, predics_now)\n",
    "np.set_printoptions(precision=2)\n",
    "# Plot non-normalized confusion matrix\n",
    "plt.figure()\n",
    "plot_confusion_matrix(cnf_matrix, classes=[\"Not \"+class_names[class_now], class_names[class_now]], normalize=False,\n",
    "                      title='Normalized confusion matrix')\n",
    "plt.show()"
   ]
  },
  {
   "cell_type": "markdown",
   "metadata": {},
   "source": [
    "Com a parte mais escura do grafico ficando a esquerda, podemos ver que o modelo na maior parte das vezes preveu que a classe não era a classe em questão. Conseguiu acertar bastante quando não era realmente, mas errou na maior parte das vezes quando era da classe. \n",
    "\n",
    "Pode se concluir que o modelo chutou muito pouco que um exemplo do dataset era dessa classe."
   ]
  },
  {
   "cell_type": "markdown",
   "metadata": {},
   "source": [
    "#### Acurácia\n"
   ]
  },
  {
   "cell_type": "code",
   "execution_count": 36,
   "metadata": {
    "collapsed": false,
    "scrolled": true
   },
   "outputs": [
    {
     "data": {
      "text/plain": [
       "0.99111800000000005"
      ]
     },
     "execution_count": 36,
     "metadata": {},
     "output_type": "execute_result"
    }
   ],
   "source": [
    "metrics.accuracy_score(trues_now, predics_now)"
   ]
  },
  {
   "cell_type": "markdown",
   "metadata": {},
   "source": [
    "Com um taxa de acurácia de quase 100%, temos a impressão de que o modelo conseguiu acertar muito nessa classe. Mas como pudemos observar na matriz de confusão e vamos observar nas próximas métricas, isso muito se deu por ter muito exemplos que não fazem parte dessa classe no dataset e a predição ter tido uma porcentagem enorme de chutes em não ser da classe."
   ]
  },
  {
   "cell_type": "markdown",
   "metadata": {},
   "source": [
    "#### Precisão\n"
   ]
  },
  {
   "cell_type": "code",
   "execution_count": 37,
   "metadata": {
    "collapsed": false,
    "scrolled": true
   },
   "outputs": [
    {
     "data": {
      "text/plain": [
       "0.024728932851436181"
      ]
     },
     "execution_count": 37,
     "metadata": {},
     "output_type": "execute_result"
    }
   ],
   "source": [
    "metrics.precision_score(trues_now, predics_now)"
   ]
  },
  {
   "cell_type": "markdown",
   "metadata": {},
   "source": [
    "Com uma precisão próxima de 0% podemos afirmar que o modelo errou muito ao tentar prever a classe. Houve uma quantidade exorbitante de falso positivo em comparação aos verdadeiros positivos."
   ]
  },
  {
   "cell_type": "markdown",
   "metadata": {},
   "source": [
    "#### Recall\n"
   ]
  },
  {
   "cell_type": "code",
   "execution_count": 38,
   "metadata": {
    "collapsed": false,
    "scrolled": true
   },
   "outputs": [
    {
     "data": {
      "text/plain": [
       "0.033462033462033462"
      ]
     },
     "execution_count": 38,
     "metadata": {},
     "output_type": "execute_result"
    }
   ],
   "source": [
    "metrics.recall_score(trues_now, predics_now)"
   ]
  },
  {
   "cell_type": "markdown",
   "metadata": {},
   "source": [
    "Com um recall de quase 0% podemos afirmar que houve um numero exorbitante de falso negativo."
   ]
  },
  {
   "cell_type": "markdown",
   "metadata": {},
   "source": [
    "#### f1 Score\n"
   ]
  },
  {
   "cell_type": "code",
   "execution_count": 39,
   "metadata": {
    "collapsed": false,
    "scrolled": true
   },
   "outputs": [
    {
     "data": {
      "text/plain": [
       "0.028440166265587399"
      ]
     },
     "execution_count": 39,
     "metadata": {},
     "output_type": "execute_result"
    }
   ],
   "source": [
    "metrics.f1_score(trues_now, predics_now)"
   ]
  },
  {
   "cell_type": "markdown",
   "metadata": {},
   "source": [
    "Corroborando com as métricas anteriores, o f1 está proxímo de 0%.  "
   ]
  },
  {
   "cell_type": "markdown",
   "metadata": {},
   "source": [
    "### Métricas de Validação - Classe 5 (Flush)\n",
    "\n",
    "#### A classe:\n",
    "A classe 5 é referente a mão que possui uma combinação de cartas que caracteriza a mão de poker chamada \"Fush\". Essa classe se dá quando o jogador possui cinco cartas do mesmo **naipe** na sua mão."
   ]
  },
  {
   "cell_type": "markdown",
   "metadata": {},
   "source": [
    "#### Matriz de Confusão\n",
    "\n",
    "Abaixo temos os resultados da matriz de confusão."
   ]
  },
  {
   "cell_type": "code",
   "execution_count": 40,
   "metadata": {
    "collapsed": true
   },
   "outputs": [],
   "source": [
    "class_now = 5\n",
    "trues_now = true_Y_by_class[class_now]\n",
    "predics_now = predict_Y_by_class[class_now]"
   ]
  },
  {
   "cell_type": "code",
   "execution_count": 41,
   "metadata": {
    "collapsed": false
   },
   "outputs": [
    {
     "name": "stdout",
     "output_type": "stream",
     "text": [
      "Confusion matrix, without normalization\n",
      "[[ 1.    0.  ]\n",
      " [ 0.75  0.25]]\n"
     ]
    },
    {
     "data": {
      "image/png": "[encoded data removed]",
      "text/plain": [
       "<matplotlib.figure.Figure at 0x1e60115a630>"
      ]
     },
     "metadata": {},
     "output_type": "display_data"
    }
   ],
   "source": [
    "# cnf_matrix = confusion_matrix(true_Y, predict_Y)\n",
    "cnf_matrix = metrics.confusion_matrix(trues_now, predics_now)\n",
    "np.set_printoptions(precision=2)\n",
    "# Plot non-normalized confusion matrix\n",
    "plt.figure()\n",
    "plot_confusion_matrix(cnf_matrix, classes=[\"Not \"+class_names[class_now], class_names[class_now]], normalize=False,\n",
    "                      title='Normalized confusion matrix')\n",
    "plt.show()"
   ]
  },
  {
   "cell_type": "markdown",
   "metadata": {},
   "source": [
    "Com a parte mais escura do grafico ficando a esquerda, podemos ver que o modelo na maior parte das vezes preveu que a classe não era a classe em questão. Conseguiu acertar bastante quando não era realmente, mas errou na maior parte das vezes quando era da classe. \n",
    "\n",
    "Pode se concluir que o modelo chutou muito pouco que um exemplo do dataset era dessa classe."
   ]
  },
  {
   "cell_type": "markdown",
   "metadata": {},
   "source": [
    "#### Acurácia\n"
   ]
  },
  {
   "cell_type": "code",
   "execution_count": 42,
   "metadata": {
    "collapsed": false,
    "scrolled": true
   },
   "outputs": [
    {
     "data": {
      "text/plain": [
       "0.99663000000000002"
      ]
     },
     "execution_count": 42,
     "metadata": {},
     "output_type": "execute_result"
    }
   ],
   "source": [
    "metrics.accuracy_score(trues_now, predics_now)"
   ]
  },
  {
   "cell_type": "markdown",
   "metadata": {},
   "source": [
    "Com um taxa de acurácia de quase 100%, temos a impressão de que o modelo conseguiu acertar muito nessa classe. Mas como pudemos observar na matriz de confusão e vamos observar nas próximas métricas, isso muito se deu por ter muito exemplos que não fazem parte dessa classe no dataset e a predição ter tido uma porcentagem enorme de chutes em não ser da classe."
   ]
  },
  {
   "cell_type": "markdown",
   "metadata": {},
   "source": [
    "#### Precisão\n"
   ]
  },
  {
   "cell_type": "code",
   "execution_count": 43,
   "metadata": {
    "collapsed": false,
    "scrolled": true
   },
   "outputs": [
    {
     "data": {
      "text/plain": [
       "0.21134453781512605"
      ]
     },
     "execution_count": 43,
     "metadata": {},
     "output_type": "execute_result"
    }
   ],
   "source": [
    "metrics.precision_score(trues_now, predics_now)"
   ]
  },
  {
   "cell_type": "markdown",
   "metadata": {},
   "source": [
    "Com uma precisão próxima de 20% podemos afirmar que o modelo errou muito ao tentar prever a classe. Houve uma quantidade exorbitante de falso positivo em comparação aos verdadeiros positivos."
   ]
  },
  {
   "cell_type": "markdown",
   "metadata": {},
   "source": [
    "#### Recall\n"
   ]
  },
  {
   "cell_type": "code",
   "execution_count": 44,
   "metadata": {
    "collapsed": false,
    "scrolled": true
   },
   "outputs": [
    {
     "data": {
      "text/plain": [
       "0.25200400801603207"
      ]
     },
     "execution_count": 44,
     "metadata": {},
     "output_type": "execute_result"
    }
   ],
   "source": [
    "metrics.recall_score(trues_now, predics_now)"
   ]
  },
  {
   "cell_type": "markdown",
   "metadata": {},
   "source": [
    "Com um recall de quase 25% podemos afirmar que houve um numero exorbitante de falso negativo."
   ]
  },
  {
   "cell_type": "markdown",
   "metadata": {},
   "source": [
    "#### f1 Score\n"
   ]
  },
  {
   "cell_type": "code",
   "execution_count": 45,
   "metadata": {
    "collapsed": false,
    "scrolled": true
   },
   "outputs": [
    {
     "data": {
      "text/plain": [
       "0.22989031078610603"
      ]
     },
     "execution_count": 45,
     "metadata": {},
     "output_type": "execute_result"
    }
   ],
   "source": [
    "metrics.f1_score(trues_now, predics_now)"
   ]
  },
  {
   "cell_type": "markdown",
   "metadata": {},
   "source": [
    "Corroborando com as métricas anteriores, o f1 está proxímo de 22%.  "
   ]
  },
  {
   "cell_type": "markdown",
   "metadata": {},
   "source": [
    "### Métricas de Validação - Classe 6 (Full House)\n",
    "\n",
    "#### A classe:\n",
    "A classe 5 é referente a mão que possui uma combinação de cartas que caracteriza a mão de poker chamada \"Full House\". Essa classe se dá quando o jogador possui duas cartas de mesmo **rank** e outras três de mesmo **rank** que não o das outras duas cartas na sua mão."
   ]
  },
  {
   "cell_type": "markdown",
   "metadata": {},
   "source": [
    "#### Matriz de Confusão\n",
    "\n",
    "Abaixo temos os resultados da matriz de confusão."
   ]
  },
  {
   "cell_type": "code",
   "execution_count": 46,
   "metadata": {
    "collapsed": true
   },
   "outputs": [],
   "source": [
    "class_now = 6\n",
    "trues_now = true_Y_by_class[class_now]\n",
    "predics_now = predict_Y_by_class[class_now]"
   ]
  },
  {
   "cell_type": "code",
   "execution_count": 47,
   "metadata": {
    "collapsed": false
   },
   "outputs": [
    {
     "name": "stdout",
     "output_type": "stream",
     "text": [
      "Confusion matrix, without normalization\n",
      "[[ 1.    0.  ]\n",
      " [ 0.98  0.02]]\n"
     ]
    },
    {
     "data": {
      "image/png": "[encoded data removed]",
      "text/plain": [
       "<matplotlib.figure.Figure at 0x1e601133ac8>"
      ]
     },
     "metadata": {},
     "output_type": "display_data"
    }
   ],
   "source": [
    "# cnf_matrix = confusion_matrix(true_Y, predict_Y)\n",
    "cnf_matrix = metrics.confusion_matrix(trues_now, predics_now)\n",
    "np.set_printoptions(precision=2)\n",
    "# Plot non-normalized confusion matrix\n",
    "plt.figure()\n",
    "plot_confusion_matrix(cnf_matrix, classes=[\"Not \"+class_names[class_now], class_names[class_now]], normalize=False,\n",
    "                      title='Normalized confusion matrix')\n",
    "plt.show()"
   ]
  },
  {
   "cell_type": "markdown",
   "metadata": {},
   "source": [
    "Com a parte mais escura do grafico ficando a esquerda, podemos ver que o modelo na maior parte das vezes preveu que a classe não era a classe em questão. Conseguiu acertar bastante quando não era realmente, mas errou na maior parte das vezes quando era da classe. \n",
    "\n",
    "Pode se concluir que o modelo chutou muito pouco que um exemplo do dataset era dessa classe."
   ]
  },
  {
   "cell_type": "markdown",
   "metadata": {},
   "source": [
    "#### Acurácia\n"
   ]
  },
  {
   "cell_type": "code",
   "execution_count": 48,
   "metadata": {
    "collapsed": false,
    "scrolled": true
   },
   "outputs": [
    {
     "data": {
      "text/plain": [
       "0.99655499999999997"
      ]
     },
     "execution_count": 48,
     "metadata": {},
     "output_type": "execute_result"
    }
   ],
   "source": [
    "metrics.accuracy_score(trues_now, predics_now)"
   ]
  },
  {
   "cell_type": "markdown",
   "metadata": {},
   "source": [
    "Com um taxa de acurácia de quase 100%, temos a impressão de que o modelo conseguiu acertar muito nessa classe. Mas como pudemos observar na matriz de confusão e vamos observar nas próximas métricas, isso muito se deu por ter muito exemplos que não fazem parte dessa classe no dataset e a predição ter tido uma porcentagem enorme de chutes em não ser da classe."
   ]
  },
  {
   "cell_type": "markdown",
   "metadata": {},
   "source": [
    "#### Precisão\n"
   ]
  },
  {
   "cell_type": "code",
   "execution_count": 49,
   "metadata": {
    "collapsed": false,
    "scrolled": true
   },
   "outputs": [
    {
     "data": {
      "text/plain": [
       "0.015812170579779589"
      ]
     },
     "execution_count": 49,
     "metadata": {},
     "output_type": "execute_result"
    }
   ],
   "source": [
    "metrics.precision_score(trues_now, predics_now)"
   ]
  },
  {
   "cell_type": "markdown",
   "metadata": {},
   "source": [
    "Com uma precisão próxima de 0% podemos afirmar que o modelo errou muito ao tentar prever a classe. Houve uma quantidade exorbitante de falso positivo em comparação aos verdadeiros positivos."
   ]
  },
  {
   "cell_type": "markdown",
   "metadata": {},
   "source": [
    "#### Recall\n"
   ]
  },
  {
   "cell_type": "code",
   "execution_count": 50,
   "metadata": {
    "collapsed": false,
    "scrolled": true
   },
   "outputs": [
    {
     "data": {
      "text/plain": [
       "0.023174157303370788"
      ]
     },
     "execution_count": 50,
     "metadata": {},
     "output_type": "execute_result"
    }
   ],
   "source": [
    "metrics.recall_score(trues_now, predics_now)"
   ]
  },
  {
   "cell_type": "markdown",
   "metadata": {},
   "source": [
    "Com um recall de quase 0% podemos afirmar que houve um numero exorbitante de falso negativo."
   ]
  },
  {
   "cell_type": "markdown",
   "metadata": {},
   "source": [
    "#### f1 Score\n"
   ]
  },
  {
   "cell_type": "code",
   "execution_count": 51,
   "metadata": {
    "collapsed": false,
    "scrolled": true
   },
   "outputs": [
    {
     "data": {
      "text/plain": [
       "0.01879806322984905"
      ]
     },
     "execution_count": 51,
     "metadata": {},
     "output_type": "execute_result"
    }
   ],
   "source": [
    "metrics.f1_score(trues_now, predics_now)"
   ]
  },
  {
   "cell_type": "markdown",
   "metadata": {},
   "source": [
    "Corroborando com as métricas anteriores, o f1 está proxímo de 0%.  "
   ]
  },
  {
   "cell_type": "markdown",
   "metadata": {},
   "source": [
    "### Métricas de Validação - Classe 7 (Four of a Kind)\n",
    "\n",
    "#### A classe:\n",
    "A classe 7 é referente a mão que possui uma combinação de cartas que caracteriza a mão de poker chamada \"Quadra\". Essa classe se dá quando o jogador possui quatro cartas do mesmo **rank** entre as cinco de sua mão."
   ]
  },
  {
   "cell_type": "markdown",
   "metadata": {},
   "source": [
    "#### Matriz de Confusão\n",
    "\n",
    "Abaixo temos os resultados da matriz de confusão."
   ]
  },
  {
   "cell_type": "code",
   "execution_count": 52,
   "metadata": {
    "collapsed": true
   },
   "outputs": [],
   "source": [
    "class_now = 7\n",
    "trues_now = true_Y_by_class[class_now]\n",
    "predics_now = predict_Y_by_class[class_now]"
   ]
  },
  {
   "cell_type": "code",
   "execution_count": 53,
   "metadata": {
    "collapsed": false
   },
   "outputs": [
    {
     "name": "stdout",
     "output_type": "stream",
     "text": [
      "Confusion matrix, without normalization\n",
      "[[  1.00e+00   4.29e-04]\n",
      " [  9.96e-01   4.35e-03]]\n"
     ]
    },
    {
     "data": {
      "image/png": "[encoded data removed]",
      "text/plain": [
       "<matplotlib.figure.Figure at 0x1e60113ae80>"
      ]
     },
     "metadata": {},
     "output_type": "display_data"
    }
   ],
   "source": [
    "# cnf_matrix = confusion_matrix(true_Y, predict_Y)\n",
    "cnf_matrix = metrics.confusion_matrix(trues_now, predics_now)\n",
    "np.set_printoptions(precision=2)\n",
    "# Plot non-normalized confusion matrix\n",
    "plt.figure()\n",
    "plot_confusion_matrix(cnf_matrix, classes=[\"Not \"+class_names[class_now], class_names[class_now]], normalize=False,\n",
    "                      title='Normalized confusion matrix')\n",
    "plt.show()"
   ]
  },
  {
   "cell_type": "markdown",
   "metadata": {},
   "source": [
    "Com a parte mais escura do grafico ficando a esquerda, podemos ver que o modelo na maior parte das vezes preveu que a classe não era a classe em questão. Conseguiu acertar bastante quando não era realmente, mas errou na maior parte das vezes quando era da classe. \n",
    "\n",
    "Pode se concluir que o modelo chutou muito pouco que um exemplo do dataset era dessa classe."
   ]
  },
  {
   "cell_type": "markdown",
   "metadata": {},
   "source": [
    "#### Acurácia\n"
   ]
  },
  {
   "cell_type": "code",
   "execution_count": 54,
   "metadata": {
    "collapsed": false,
    "scrolled": true
   },
   "outputs": [
    {
     "data": {
      "text/plain": [
       "0.99934199999999995"
      ]
     },
     "execution_count": 54,
     "metadata": {},
     "output_type": "execute_result"
    }
   ],
   "source": [
    "metrics.accuracy_score(trues_now, predics_now)"
   ]
  },
  {
   "cell_type": "markdown",
   "metadata": {},
   "source": [
    "Com um taxa de acurácia de quase 100%, temos a impressão de que o modelo conseguiu acertar muito nessa classe. Mas como pudemos observar na matriz de confusão e vamos observar nas próximas métricas, isso muito se deu por ter muito exemplos que não fazem parte dessa classe no dataset e a predição ter tido uma porcentagem enorme de chutes em não ser da classe."
   ]
  },
  {
   "cell_type": "markdown",
   "metadata": {},
   "source": [
    "#### Precisão\n"
   ]
  },
  {
   "cell_type": "code",
   "execution_count": 55,
   "metadata": {
    "collapsed": false,
    "scrolled": true
   },
   "outputs": [
    {
     "data": {
      "text/plain": [
       "0.0023255813953488372"
      ]
     },
     "execution_count": 55,
     "metadata": {},
     "output_type": "execute_result"
    }
   ],
   "source": [
    "metrics.precision_score(trues_now, predics_now)"
   ]
  },
  {
   "cell_type": "markdown",
   "metadata": {},
   "source": [
    "Com uma precisão próxima de 0% podemos afirmar que o modelo errou muito ao tentar prever a classe. Houve uma quantidade exorbitante de falso positivo em comparação aos verdadeiros positivos."
   ]
  },
  {
   "cell_type": "markdown",
   "metadata": {},
   "source": [
    "#### Recall\n"
   ]
  },
  {
   "cell_type": "code",
   "execution_count": 56,
   "metadata": {
    "collapsed": false,
    "scrolled": true
   },
   "outputs": [
    {
     "data": {
      "text/plain": [
       "0.0043478260869565218"
      ]
     },
     "execution_count": 56,
     "metadata": {},
     "output_type": "execute_result"
    }
   ],
   "source": [
    "metrics.recall_score(trues_now, predics_now)"
   ]
  },
  {
   "cell_type": "markdown",
   "metadata": {},
   "source": [
    "Com um recall de quase 0% podemos afirmar que houve um numero exorbitante de falso negativo."
   ]
  },
  {
   "cell_type": "markdown",
   "metadata": {},
   "source": [
    "#### f1 Score\n"
   ]
  },
  {
   "cell_type": "code",
   "execution_count": 57,
   "metadata": {
    "collapsed": false,
    "scrolled": true
   },
   "outputs": [
    {
     "data": {
      "text/plain": [
       "0.0030303030303030303"
      ]
     },
     "execution_count": 57,
     "metadata": {},
     "output_type": "execute_result"
    }
   ],
   "source": [
    "metrics.f1_score(trues_now, predics_now)"
   ]
  },
  {
   "cell_type": "markdown",
   "metadata": {},
   "source": [
    "Corroborando com as métricas anteriores, o f1 está proxímo de 0%.  "
   ]
  },
  {
   "cell_type": "markdown",
   "metadata": {},
   "source": [
    "### Métricas de Validação - Classe 8 (Strainght Flush)\n",
    "\n",
    "#### A classe:\n",
    "A classe 8 é referente a mão que possui uma combinação de cartas que caracteriza a mão de poker chamada \"Sequencia do mesmo naipe\". Essa classe se dá quando o jogador possui todas as cartas com o **rank** em uma sequencia e todas essas cartas são do mesmo **naipe**."
   ]
  },
  {
   "cell_type": "markdown",
   "metadata": {},
   "source": [
    "#### Matriz de Confusão\n",
    "\n",
    "Abaixo temos os resultados da matriz de confusão."
   ]
  },
  {
   "cell_type": "code",
   "execution_count": 58,
   "metadata": {
    "collapsed": true
   },
   "outputs": [],
   "source": [
    "class_now = 8\n",
    "trues_now = true_Y_by_class[class_now]\n",
    "predics_now = predict_Y_by_class[class_now]"
   ]
  },
  {
   "cell_type": "code",
   "execution_count": 59,
   "metadata": {
    "collapsed": false
   },
   "outputs": [
    {
     "name": "stdout",
     "output_type": "stream",
     "text": [
      "Confusion matrix, without normalization\n",
      "[[  1.00e+00   2.52e-04]\n",
      " [  1.00e+00   0.00e+00]]\n"
     ]
    },
    {
     "data": {
      "image/png": "[encoded data removed]",
      "text/plain": [
       "<matplotlib.figure.Figure at 0x1e60115a3c8>"
      ]
     },
     "metadata": {},
     "output_type": "display_data"
    }
   ],
   "source": [
    "# cnf_matrix = confusion_matrix(true_Y, predict_Y)\n",
    "cnf_matrix = metrics.confusion_matrix(trues_now, predics_now)\n",
    "np.set_printoptions(precision=2)\n",
    "# Plot non-normalized confusion matrix\n",
    "plt.figure()\n",
    "plot_confusion_matrix(cnf_matrix, classes=[\"Not \"+class_names[class_now], class_names[class_now]], normalize=False,\n",
    "                      title='Normalized confusion matrix')\n",
    "plt.show()"
   ]
  },
  {
   "cell_type": "markdown",
   "metadata": {},
   "source": [
    "Com a parte mais escura do grafico ficando a esquerda, podemos ver que o modelo na maior parte das vezes preveu que a classe não era a classe em questão. Conseguiu acertar bastante quando não era realmente, mas errou na maior parte das vezes quando era da classe. \n",
    "\n",
    "Pode se concluir que o modelo chutou muito pouco que um exemplo do dataset era dessa classe."
   ]
  },
  {
   "cell_type": "markdown",
   "metadata": {},
   "source": [
    "#### Acurácia\n"
   ]
  },
  {
   "cell_type": "code",
   "execution_count": 60,
   "metadata": {
    "collapsed": false,
    "scrolled": true
   },
   "outputs": [
    {
     "data": {
      "text/plain": [
       "0.99973599999999996"
      ]
     },
     "execution_count": 60,
     "metadata": {},
     "output_type": "execute_result"
    }
   ],
   "source": [
    "metrics.accuracy_score(trues_now, predics_now)"
   ]
  },
  {
   "cell_type": "markdown",
   "metadata": {},
   "source": [
    "Com um taxa de acurácia de quase 100%, temos a impressão de que o modelo conseguiu acertar muito nessa classe. Mas como pudemos observar na matriz de confusão e vamos observar nas próximas métricas, isso muito se deu por ter muito exemplos que não fazem parte dessa classe no dataset e a predição ter tido uma porcentagem enorme de chutes em não ser da classe."
   ]
  },
  {
   "cell_type": "markdown",
   "metadata": {},
   "source": [
    "#### Precisão\n"
   ]
  },
  {
   "cell_type": "code",
   "execution_count": 61,
   "metadata": {
    "collapsed": false,
    "scrolled": true
   },
   "outputs": [
    {
     "data": {
      "text/plain": [
       "0.0"
      ]
     },
     "execution_count": 61,
     "metadata": {},
     "output_type": "execute_result"
    }
   ],
   "source": [
    "metrics.precision_score(trues_now, predics_now)"
   ]
  },
  {
   "cell_type": "markdown",
   "metadata": {},
   "source": [
    "Com uma precisão 0% podemos afirmar que o modelo errou todos ao tentar prever a classe. Não houve nenhum verdadeiro positivo para a classe."
   ]
  },
  {
   "cell_type": "markdown",
   "metadata": {},
   "source": [
    "#### Recall\n"
   ]
  },
  {
   "cell_type": "code",
   "execution_count": 62,
   "metadata": {
    "collapsed": false,
    "scrolled": true
   },
   "outputs": [
    {
     "data": {
      "text/plain": [
       "0.0"
      ]
     },
     "execution_count": 62,
     "metadata": {},
     "output_type": "execute_result"
    }
   ],
   "source": [
    "metrics.recall_score(trues_now, predics_now)"
   ]
  },
  {
   "cell_type": "markdown",
   "metadata": {},
   "source": [
    "Com uma recall 0% podemos afirmar que o modelo errou todos ao tentar prever a classe. Não houve nenhum verdadeiro positivo para a classe."
   ]
  },
  {
   "cell_type": "markdown",
   "metadata": {},
   "source": [
    "#### f1 Score\n"
   ]
  },
  {
   "cell_type": "code",
   "execution_count": 63,
   "metadata": {
    "collapsed": false,
    "scrolled": true
   },
   "outputs": [
    {
     "data": {
      "text/plain": [
       "0.0"
      ]
     },
     "execution_count": 63,
     "metadata": {},
     "output_type": "execute_result"
    }
   ],
   "source": [
    "metrics.f1_score(trues_now, predics_now)"
   ]
  },
  {
   "cell_type": "markdown",
   "metadata": {},
   "source": [
    "Corroborando com as métricas anteriores, o f1 está de 0%.  "
   ]
  },
  {
   "cell_type": "markdown",
   "metadata": {},
   "source": [
    "### Métricas de Validação - Classe 9 (Royal Flush)\n",
    "\n",
    "#### A classe:\n",
    "A classe 9 é referente a mão que possui uma combinação de cartas que caracteriza a mão de poker chamada \"Sequencia real do mesmo naipe\". Essa classe se dá quando o jogador possui todas as cartas com o **rank** na maior sequencia possível e todas essas cartas são do mesmo **naipe**."
   ]
  },
  {
   "cell_type": "markdown",
   "metadata": {},
   "source": [
    "#### Matriz de Confusão\n",
    "\n",
    "Abaixo temos os resultados da matriz de confusão."
   ]
  },
  {
   "cell_type": "code",
   "execution_count": 64,
   "metadata": {
    "collapsed": false
   },
   "outputs": [
    {
     "data": {
      "text/plain": [
       "(1000000, 1)"
      ]
     },
     "execution_count": 64,
     "metadata": {},
     "output_type": "execute_result"
    }
   ],
   "source": [
    "class_now = 9\n",
    "trues_now = true_Y_by_class[1]\n",
    "predics_now = predict_Y_by_class[class_now]\n",
    "\n",
    "trues_now.shape"
   ]
  },
  {
   "cell_type": "code",
   "execution_count": 65,
   "metadata": {
    "collapsed": false
   },
   "outputs": [
    {
     "name": "stdout",
     "output_type": "stream",
     "text": [
      "Confusion matrix, without normalization\n",
      "[[  1.00e+00   2.20e-04]\n",
      " [  1.00e+00   7.57e-05]]\n"
     ]
    },
    {
     "data": {
      "image/png": "[encoded data removed]",
      "text/plain": [
       "<matplotlib.figure.Figure at 0x1e600e27198>"
      ]
     },
     "metadata": {},
     "output_type": "display_data"
    }
   ],
   "source": [
    "# cnf_matrix = confusion_matrix(true_Y, predict_Y)\n",
    "cnf_matrix = metrics.confusion_matrix(trues_now, predics_now)\n",
    "np.set_printoptions(precision=2)\n",
    "# Plot non-normalized confusion matrix\n",
    "plt.figure()\n",
    "plot_confusion_matrix(cnf_matrix, classes=[\"Not \"+class_names[class_now], class_names[class_now]], normalize=False,\n",
    "                      title='Normalized confusion matrix')\n",
    "plt.show()"
   ]
  },
  {
   "cell_type": "markdown",
   "metadata": {},
   "source": [
    "Com a parte mais escura do grafico ficando a esquerda, podemos ver que o modelo na maior parte das vezes preveu que a classe não era a classe em questão. Conseguiu acertar bastante quando não era realmente, mas errou na maior parte das vezes quando era da classe. \n",
    "\n",
    "Pode se concluir que o modelo chutou muito pouco que um exemplo do dataset era dessa classe."
   ]
  },
  {
   "cell_type": "markdown",
   "metadata": {},
   "source": [
    "#### Acurácia\n"
   ]
  },
  {
   "cell_type": "code",
   "execution_count": 66,
   "metadata": {
    "collapsed": false,
    "scrolled": true
   },
   "outputs": [
    {
     "data": {
      "text/plain": [
       "0.577407"
      ]
     },
     "execution_count": 66,
     "metadata": {},
     "output_type": "execute_result"
    }
   ],
   "source": [
    "metrics.accuracy_score(trues_now, predics_now)"
   ]
  },
  {
   "cell_type": "markdown",
   "metadata": {},
   "source": [
    "Com um taxa de acurácia de quase 60% e olhando para a matriz de confusão, percebemos que o modelo chutou demais em **não-classe** "
   ]
  },
  {
   "cell_type": "markdown",
   "metadata": {},
   "source": [
    "#### Precisão\n"
   ]
  },
  {
   "cell_type": "code",
   "execution_count": 67,
   "metadata": {
    "collapsed": false,
    "scrolled": true
   },
   "outputs": [
    {
     "data": {
      "text/plain": [
       "0.20125786163522014"
      ]
     },
     "execution_count": 67,
     "metadata": {},
     "output_type": "execute_result"
    }
   ],
   "source": [
    "metrics.precision_score(trues_now, predics_now)"
   ]
  },
  {
   "cell_type": "markdown",
   "metadata": {},
   "source": [
    "Com uma precisão 20% podemos afirmar que o modelo errou muito ao tentar prever a classe. Tiveram poucos verdadeiro positivos para a classe e muitos falsos positivos."
   ]
  },
  {
   "cell_type": "markdown",
   "metadata": {},
   "source": [
    "#### Recall\n"
   ]
  },
  {
   "cell_type": "code",
   "execution_count": 68,
   "metadata": {
    "collapsed": false,
    "scrolled": true
   },
   "outputs": [
    {
     "data": {
      "text/plain": [
       "7.5740003502975162e-05"
      ]
     },
     "execution_count": 68,
     "metadata": {},
     "output_type": "execute_result"
    }
   ],
   "source": [
    "metrics.recall_score(trues_now, predics_now)"
   ]
  },
  {
   "cell_type": "markdown",
   "metadata": {},
   "source": [
    "Com uma recall de quase 0% podemos afirmar que o modelo errou demais ao tentar prever a classe. Não houve quase nenhum verdadeiro positivo para a classe em comparação aos falsos negativos."
   ]
  },
  {
   "cell_type": "markdown",
   "metadata": {},
   "source": [
    "#### f1 Score\n"
   ]
  },
  {
   "cell_type": "code",
   "execution_count": 69,
   "metadata": {
    "collapsed": false,
    "scrolled": true
   },
   "outputs": [
    {
     "data": {
      "text/plain": [
       "0.00015142302150443504"
      ]
     },
     "execution_count": 69,
     "metadata": {},
     "output_type": "execute_result"
    }
   ],
   "source": [
    "metrics.f1_score(trues_now, predics_now)"
   ]
  },
  {
   "cell_type": "markdown",
   "metadata": {},
   "source": [
    "Por o Recall estar muito abaixo da precisão, temos um f1 muito baixo. Próximo de 0%"
   ]
  },
  {
   "cell_type": "markdown",
   "metadata": {},
   "source": [
    "### Métricas de Validação - Global\n",
    "\n",
    "Aqui veremos algumas métricas globais do modelo."
   ]
  },
  {
   "cell_type": "markdown",
   "metadata": {},
   "source": [
    "#### Matriz de Confusão\n",
    "\n",
    "Abaixo temos os resultados da matriz de confusão."
   ]
  },
  {
   "cell_type": "code",
   "execution_count": 70,
   "metadata": {
    "collapsed": false
   },
   "outputs": [
    {
     "name": "stdout",
     "output_type": "stream",
     "text": [
      "Confusion matrix, without normalization\n",
      "[[  5.65e-01   3.74e-01   3.75e-02   1.54e-02   3.96e-03   2.35e-03\n",
      "    9.80e-04   3.41e-04   2.06e-04   9.58e-05]\n",
      " [  4.16e-01   4.74e-01   7.28e-02   2.58e-02   6.03e-03   1.53e-03\n",
      "    2.67e-03   4.52e-04   2.30e-04   7.57e-05]\n",
      " [  2.89e-01   5.36e-01   1.27e-01   3.33e-02   7.60e-03   6.72e-04\n",
      "    5.42e-03   7.56e-04   1.47e-04   0.00e+00]\n",
      " [  2.80e-01   5.02e-01   8.60e-02   1.14e-01   9.09e-03   4.26e-04\n",
      "    7.48e-03   1.28e-03   1.42e-04   1.42e-04]\n",
      " [  2.89e-01   5.22e-01   9.88e-02   4.61e-02   3.35e-02   1.80e-03\n",
      "    4.12e-03   5.15e-04   2.83e-03   7.72e-04]\n",
      " [  4.36e-01   2.29e-01   1.90e-02   5.01e-03   6.01e-03   2.52e-01\n",
      "    5.01e-04   0.00e+00   1.55e-02   3.66e-02]\n",
      " [  1.83e-01   5.34e-01   1.36e-01   1.06e-01   1.62e-02   0.00e+00\n",
      "    2.32e-02   1.40e-03   0.00e+00   0.00e+00]\n",
      " [  1.30e-01   4.70e-01   2.04e-01   1.65e-01   1.30e-02   0.00e+00\n",
      "    1.30e-02   4.35e-03   0.00e+00   0.00e+00]\n",
      " [  3.33e-01   2.50e-01   8.33e-02   0.00e+00   8.33e-02   2.50e-01\n",
      "    0.00e+00   0.00e+00   0.00e+00   0.00e+00]\n",
      " [  0.00e+00   3.33e-01   0.00e+00   0.00e+00   0.00e+00   6.67e-01\n",
      "    0.00e+00   0.00e+00   0.00e+00   0.00e+00]]\n"
     ]
    },
    {
     "data": {
      "image/png": "[encoded data removed]",
      "text/plain": [
       "<matplotlib.figure.Figure at 0x1e6003882b0>"
      ]
     },
     "metadata": {},
     "output_type": "display_data"
    }
   ],
   "source": [
    "# cnf_matrix = confusion_matrix(true_Y, predict_Y)\n",
    "trues_now = true_Y\n",
    "predics_now = predict_Y\n",
    "cnf_matrix = metrics.confusion_matrix(true_Y, predict_Y)\n",
    "np.set_printoptions(precision=2)\n",
    "# Plot non-normalized confusion matrix\n",
    "plt.figure()\n",
    "plot_confusion_matrix(cnf_matrix, classes=class_names, normalize=False,\n",
    "                      title='Normalized confusion matrix')\n",
    "plt.show()"
   ]
  },
  {
   "cell_type": "markdown",
   "metadata": {},
   "source": [
    "Analisando essa matriz de confusão global podemos ver com mais clareza quais foram as confusões cometidas pelo modelo.\n",
    "\n",
    "Vemos claramente que a maior parte dos chutes foram para as classes **None** e **One Pair**, o que faz sentido pelas duas terem maior porcentagem de exemplos no dataset.\n",
    "\n",
    "Percebemos também que o modelo confundiu a classe **Flush** com a classe **Royal Flush**. É um resultado que poderiamos esperar pela sobreposição de casos. O **Royal Flush** é um caso especial do **Flush**.\n",
    "\n",
    "Se nota também que mais de 50% dos casos de **Two Pairs**, **Tree Of a Kind**, **Full House**, **Four of a Kind** foram previstos como **One Pair**. Isso também é um resultado plausivel vistos que todas as classes ditas anteriormente possuem um par em sua combinação.\n",
    "\n",
    "Se olharmos para a diagonal principal, percebemos que conforme descemos na diagonal, a porcentagem diminui. Vale lembrar que a distribuição de exemplos de cada classe não é igualitária, possuindo uma porcentagem bem maior de exemplos de classes menores que das maiores. Isso pode ter causado esse fator.\n",
    "\n"
   ]
  },
  {
   "cell_type": "markdown",
   "metadata": {},
   "source": [
    "#### Acurácia\n"
   ]
  },
  {
   "cell_type": "code",
   "execution_count": 71,
   "metadata": {
    "collapsed": false,
    "scrolled": true
   },
   "outputs": [
    {
     "data": {
      "text/plain": [
       "0.49278300000000003"
      ]
     },
     "execution_count": 71,
     "metadata": {},
     "output_type": "execute_result"
    }
   ],
   "source": [
    "metrics.accuracy_score(trues_now, predics_now)"
   ]
  },
  {
   "cell_type": "markdown",
   "metadata": {},
   "source": [
    "Com um taxa de acurácia de quase 49% e olhando para a matriz de confusão fica claro que a maior incidencia de classes de maior ocorrencia torna o modelo inviesado."
   ]
  },
  {
   "cell_type": "markdown",
   "metadata": {},
   "source": [
    "#### Precisão - Micro\n"
   ]
  },
  {
   "cell_type": "code",
   "execution_count": 72,
   "metadata": {
    "collapsed": false,
    "scrolled": true
   },
   "outputs": [
    {
     "data": {
      "text/plain": [
       "0.49278300000000003"
      ]
     },
     "execution_count": 72,
     "metadata": {},
     "output_type": "execute_result"
    }
   ],
   "source": [
    "metrics.precision_score(trues_now, predics_now, average='micro')"
   ]
  },
  {
   "cell_type": "markdown",
   "metadata": {},
   "source": [
    "#### Precisão - Macro\n"
   ]
  },
  {
   "cell_type": "code",
   "execution_count": 73,
   "metadata": {
    "collapsed": false,
    "scrolled": true
   },
   "outputs": [
    {
     "data": {
      "text/plain": [
       "0.15206826591586303"
      ]
     },
     "execution_count": 73,
     "metadata": {},
     "output_type": "execute_result"
    }
   ],
   "source": [
    "metrics.precision_score(trues_now, predics_now, average='macro')"
   ]
  },
  {
   "cell_type": "markdown",
   "metadata": {},
   "source": [
    "Uma precisão micro de quase 50% e uma macro de 15% torna evidente o que ja foi dito anteriormente. A maior ocorrencia de algumas classes no conjunto de teste fez a precisão micro se elevar enquanto a macro foi reduzida devido a baixissima precisão das demais classes."
   ]
  },
  {
   "cell_type": "markdown",
   "metadata": {},
   "source": [
    "#### Recall\n",
    "##### Micro\n"
   ]
  },
  {
   "cell_type": "code",
   "execution_count": 74,
   "metadata": {
    "collapsed": false,
    "scrolled": true
   },
   "outputs": [
    {
     "data": {
      "text/plain": [
       "0.49278300000000003"
      ]
     },
     "execution_count": 74,
     "metadata": {},
     "output_type": "execute_result"
    }
   ],
   "source": [
    "metrics.recall_score(trues_now, predics_now, average='micro')"
   ]
  },
  {
   "cell_type": "markdown",
   "metadata": {},
   "source": [
    "##### Macro\n"
   ]
  },
  {
   "cell_type": "code",
   "execution_count": 75,
   "metadata": {
    "collapsed": false,
    "scrolled": true
   },
   "outputs": [
    {
     "data": {
      "text/plain": [
       "0.15932085563462711"
      ]
     },
     "execution_count": 75,
     "metadata": {},
     "output_type": "execute_result"
    }
   ],
   "source": [
    "metrics.recall_score(trues_now, predics_now, average='macro')"
   ]
  },
  {
   "cell_type": "markdown",
   "metadata": {},
   "source": [
    "Com o Recall ocorreu um fenomeno analogo ao da precisão."
   ]
  },
  {
   "cell_type": "markdown",
   "metadata": {},
   "source": [
    "#### f1 Score\n",
    "\n",
    "#### Micro\n"
   ]
  },
  {
   "cell_type": "code",
   "execution_count": 76,
   "metadata": {
    "collapsed": false,
    "scrolled": true
   },
   "outputs": [
    {
     "data": {
      "text/plain": [
       "0.49278300000000003"
      ]
     },
     "execution_count": 76,
     "metadata": {},
     "output_type": "execute_result"
    }
   ],
   "source": [
    "metrics.f1_score(trues_now, predics_now, average='micro')"
   ]
  },
  {
   "cell_type": "markdown",
   "metadata": {},
   "source": [
    "##### Macro"
   ]
  },
  {
   "cell_type": "code",
   "execution_count": 77,
   "metadata": {
    "collapsed": false,
    "scrolled": true
   },
   "outputs": [
    {
     "data": {
      "text/plain": [
       "0.15519186881331573"
      ]
     },
     "execution_count": 77,
     "metadata": {},
     "output_type": "execute_result"
    }
   ],
   "source": [
    "metrics.f1_score(trues_now, predics_now, average='macro')"
   ]
  },
  {
   "cell_type": "markdown",
   "metadata": {},
   "source": [
    "O mesmo ocorreu com a médio f1."
   ]
  },
  {
   "cell_type": "markdown",
   "metadata": {
    "collapsed": true
   },
   "source": [
    "## Conclusão\n",
    "\n",
    "<p> Através das métricas apresentadas anteriormente podemos afirmar que o modelo de predição do presente trabalho não foi bem sucedido. O modelo está claramente fazendo confusão de classes semelhantes, que possuem mais sobreposição de exemplos, e está chutando excedidas vezes as classes mais simples (None, One Pair), que possuem mais ocorrencia tanto no conjunto de treinamento quando no domínio do problema.</p>\n",
    "<p>Os motivos das falhas podem ser diversos, mas arriscamos em afirmar que muito se dá por causa da grande dispersão de quantidade de exemplos no conjunto de treinamento. Vale lembrar que o conjunto de treinamento e de testes procura ser fiel ao domínio do problema real quanto a pocentagem de ocorrencia de uma determinada classe. Outro fator importante pode estar no algorítmo escolhido, a arvore de decisão é um algoritímo que cria regras para acertar o máximo possível, talvez por isso esteja dando preferencia em chutar valores de maior ocorrencia.</p>\n",
    "<p>Então encerramos esse trabalho com a conclusão de que é necessário um estudo maior em cima do dataset, mais teste e mais esforço e tempo dedicados a esse problema. Com certeza será necessário um estudo maior de qual seria a separação de conjuntos teste-treino ideal para esse problema e quais algoritimos e parâmetros são os melhores.</p>"
   ]
  }
 ],
 "metadata": {
  "kernelspec": {
   "display_name": "Python 3",
   "language": "python",
   "name": "python3"
  },
  "language_info": {
   "codemirror_mode": {
    "name": "ipython",
    "version": 3
   },
   "file_extension": ".py",
   "mimetype": "text/x-python",
   "name": "python",
   "nbconvert_exporter": "python",
   "pygments_lexer": "ipython3",
   "version": "3.6.0"
  }
 },
 "nbformat": 4,
 "nbformat_minor": 2
}
